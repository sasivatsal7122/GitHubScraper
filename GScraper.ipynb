{
 "cells": [
  {
   "cell_type": "code",
   "execution_count": 1,
   "id": "9acba3e2",
   "metadata": {},
   "outputs": [],
   "source": [
    "import requests\n",
    "import urllib\n",
    "from bs4 import BeautifulSoup as soup\n",
    "from urllib.request import Request, urlopen\n",
    "from pprint import pprint\n",
    "import random"
   ]
  },
  {
   "cell_type": "code",
   "execution_count": 49,
   "id": "b9a1ab02",
   "metadata": {},
   "outputs": [],
   "source": [
    "link = \"https://github.com/orgs/OWASP/repositories?page=1\""
   ]
  },
  {
   "cell_type": "code",
   "execution_count": 122,
   "id": "de16a279",
   "metadata": {
    "scrolled": false
   },
   "outputs": [],
   "source": [
    "treq = Request(link, \n",
    "    headers={'User-Agent': 'Mozilla/5.0'}\n",
    ")\n",
    "webpage = urlopen(treq).read()\n",
    "webpage_soup = soup(webpage,'html.parser')"
   ]
  },
  {
   "cell_type": "code",
   "execution_count": 51,
   "id": "67999969",
   "metadata": {},
   "outputs": [
    {
     "name": "stdout",
     "output_type": "stream",
     "text": [
      "33\n"
     ]
    }
   ],
   "source": [
    "pagination_ls = webpage_soup.find_all('div',{'class':'pagination'})\n",
    "nof_pages = []\n",
    "for text in pagination_ls:\n",
    "    links = text.find_all('a')\n",
    "    for text in links:\n",
    "        pages = (text.text)\n",
    "        nof_pages.append(pages)\n",
    "nof_pages = [int(i) for i in nof_pages[:-2]]\n",
    "last_page = nof_pages[-1]\n",
    "print(last_page)"
   ]
  },
  {
   "cell_type": "code",
   "execution_count": 103,
   "id": "0de13ee2",
   "metadata": {},
   "outputs": [
    {
     "name": "stdout",
     "output_type": "stream",
     "text": [
      "(16, 30)\n",
      "1\n"
     ]
    }
   ],
   "source": [
    "page_req = 2\n",
    "repo_range = ((15*page_req)-14,15*page_req)\n",
    "scrape_page = (repo_range[1])/30\n",
    "print(repo_range)\n",
    "print(round(scrape_page))"
   ]
  },
  {
   "cell_type": "code",
   "execution_count": 137,
   "id": "76d3a876",
   "metadata": {},
   "outputs": [],
   "source": [
    "scrape_link = f\"https://github.com/orgs/OWASP/repositories?page={scrape_page}\" \n",
    "\n",
    "scrape_link = \"https://github.com/orgs/facebook/repositories?page=1\"\n",
    "treq = Request(scrape_link, \n",
    "    headers={'User-Agent': 'Mozilla/5.0'}\n",
    ")\n",
    "webpage = urlopen(treq).read()\n",
    "webpage_soup = soup(webpage,'html.parser')"
   ]
  },
  {
   "cell_type": "code",
   "execution_count": 138,
   "id": "54158b7e",
   "metadata": {},
   "outputs": [
    {
     "name": "stdout",
     "output_type": "stream",
     "text": [
      "['CacheLib',\n",
      " 'hhvm',\n",
      " 'fboss',\n",
      " 'watchman',\n",
      " 'fbthrift',\n",
      " 'fb303',\n",
      " 'openr',\n",
      " 'proxygen',\n",
      " 'jest',\n",
      " 'react-native',\n",
      " 'wangle',\n",
      " 'redex',\n",
      " 'SPARTA',\n",
      " 'relay',\n",
      " 'lexical',\n",
      " 'folly',\n",
      " 'rocksdb',\n",
      " 'squangle',\n",
      " 'react',\n",
      " 'Ax',\n",
      " 'OpenBIC',\n",
      " 'ThreatExchange',\n",
      " 'flow',\n",
      " 'pyre-check',\n",
      " 'hermes',\n",
      " 'openbmc',\n",
      " 'zstd',\n",
      " 'mysql-5.6',\n",
      " 'FAI-PEP',\n",
      " 'docusaurus']\n",
      "30\n"
     ]
    }
   ],
   "source": [
    "soup_titles_ls = webpage_soup.find_all('a',{'class':'d-inline-block'})\n",
    "repo_title = []\n",
    "for i in soup_titles_ls:\n",
    "    repo_title.append((i.text).strip())\n",
    "repo_title.pop(0)\n",
    "pprint(repo_title)\n",
    "print(len(repo_title))"
   ]
  },
  {
   "cell_type": "code",
   "execution_count": 139,
   "id": "4acbe6a1",
   "metadata": {},
   "outputs": [
    {
     "name": "stdout",
     "output_type": "stream",
     "text": [
      "['Pluggable in-process caching engine to build and scale high performance '\n",
      " 'services',\n",
      " 'A virtual machine for executing programs written in Hack.',\n",
      " 'Facebook Open Switching System Software for controlling network switches.',\n",
      " 'Watches files and records, or triggers actions, when they change.',\n",
      " \"Facebook's branch of Apache Thrift, including a new C++ server.\",\n",
      " 'fb303 is a core set of thrift functions that provide a common mechanism for '\n",
      " 'querying stats and other information from a service.',\n",
      " 'Distributed platform for building autonomic network functions.',\n",
      " 'A collection of C++ HTTP libraries including an easy to use HTTP server.',\n",
      " 'Delightful JavaScript Testing.',\n",
      " 'A framework for building native applications using React',\n",
      " 'Wangle is a framework providing a set of common client/server abstractions '\n",
      " 'for building services in a consistent, modular, and composable way.',\n",
      " 'A bytecode optimizer for Android apps',\n",
      " 'SPARTA is a library that provides the basic blocks for building '\n",
      " 'high-performance static code analyzers based on Abstract Interpretation.',\n",
      " 'Relay is a JavaScript framework for building data-driven React applications.',\n",
      " 'Lexical is an extensible text editor framework that provides excellent '\n",
      " 'reliability, accessibility and performance.',\n",
      " 'An open-source C++ library developed and used at Facebook.',\n",
      " 'A library that provides an embeddable, persistent key-value store for fast '\n",
      " 'storage.',\n",
      " 'SQuangLe is a C++ API for accessing MySQL servers',\n",
      " 'A declarative, efficient, and flexible JavaScript library for building user '\n",
      " 'interfaces.',\n",
      " 'Adaptive Experimentation Platform',\n",
      " 'BICs (Bridge IC) are standalone devices deployed within a Data Center that '\n",
      " 'enable monitoring a multi-host system using a single BMC device.',\n",
      " 'Share threat information with vetted partners',\n",
      " 'Adds static typing to JavaScript to improve developer productivity and code '\n",
      " 'quality.',\n",
      " 'Performant type-checking for python.',\n",
      " 'A JavaScript engine optimized for running React Native.',\n",
      " 'OpenBMC is an open software framework to build a complete Linux image for a '\n",
      " 'Board Management Controller (BMC).',\n",
      " 'Zstandard - Fast real-time compression algorithm',\n",
      " \"Facebook's branch of the Oracle MySQL v5.6 database. This includes MyRocks.\",\n",
      " 'Facebook AI Performance Evaluation Platform',\n",
      " 'Easy to maintain open source documentation websites.']\n",
      "30\n"
     ]
    }
   ],
   "source": [
    "soup_sdesc_ls = webpage_soup.find_all('p',{'class':'color-fg-muted mb-0 wb-break-word'})\n",
    "repo_sdesc = []\n",
    "for i in soup_sdesc_ls:\n",
    "    repo_sdesc.append((i.text).strip())\n",
    "pprint(repo_sdesc)\n",
    "print(len(repo_sdesc))"
   ]
  },
  {
   "cell_type": "code",
   "execution_count": 174,
   "id": "02ae7706",
   "metadata": {},
   "outputs": [
    {
     "name": "stdout",
     "output_type": "stream",
     "text": [
      "[['cpp'],\n",
      " ['cache'],\n",
      " ['concurrency'],\n",
      " ['ssd'],\n",
      " ['cache-engine'],\n",
      " ['performance'],\n",
      " ['hacklang'],\n",
      " ['php'],\n",
      " ['hack'],\n",
      " ['hhvm'],\n",
      " ['testing'],\n",
      " ['facebook'],\n",
      " ['snapshot'],\n",
      " ['expectation'],\n",
      " ['easy'],\n",
      " ['immersive'],\n",
      " ['painless'],\n",
      " ['storage-engine'],\n",
      " ['database'],\n",
      " ['library'],\n",
      " ['ui'],\n",
      " ['frontend'],\n",
      " ['declarative'],\n",
      " ['react'],\n",
      " ['javascript'],\n",
      " ['python'],\n",
      " ['security'],\n",
      " ['typechecker'],\n",
      " ['static-analysis'],\n",
      " ['ocaml']]\n"
     ]
    }
   ],
   "source": [
    "soup_tags_ls = webpage_soup.find_all('a',{'class':'topic-tag topic-tag-link f6 my-1'})\n",
    "repo_tags = []\n",
    "for i in soup_tags_ls:\n",
    "    repo_tags.append((i.text).strip())\n",
    "repo_tags = repo_tags[:-8]\n",
    "\n",
    "n_repo_tags = []\n",
    "for i in range(30):\n",
    "    start = i;end = i+1\n",
    "    n_repo_tags.append(list(repo_tags[start:end]))\n",
    "pprint(n_repo_tags)"
   ]
  },
  {
   "cell_type": "code",
   "execution_count": 176,
   "id": "df628031",
   "metadata": {
    "scrolled": false
   },
   "outputs": [
    {
     "name": "stdout",
     "output_type": "stream",
     "text": [
      "{'card-1': {'Short Desc': 'Pluggable in-process caching engine to build and '\n",
      "                          'scale high performance services',\n",
      "            'Tags': ['cpp'],\n",
      "            'Title': 'CacheLib'},\n",
      " 'card-10': {'Short Desc': 'A framework for building native applications using '\n",
      "                           'React',\n",
      "             'Tags': ['hhvm'],\n",
      "             'Title': 'react-native'},\n",
      " 'card-11': {'Short Desc': 'Wangle is a framework providing a set of common '\n",
      "                           'client/server abstractions for building services '\n",
      "                           'in a consistent, modular, and composable way.',\n",
      "             'Tags': ['testing'],\n",
      "             'Title': 'wangle'},\n",
      " 'card-12': {'Short Desc': 'A bytecode optimizer for Android apps',\n",
      "             'Tags': ['facebook'],\n",
      "             'Title': 'redex'},\n",
      " 'card-13': {'Short Desc': 'SPARTA is a library that provides the basic blocks '\n",
      "                           'for building high-performance static code '\n",
      "                           'analyzers based on Abstract Interpretation.',\n",
      "             'Tags': ['snapshot'],\n",
      "             'Title': 'SPARTA'},\n",
      " 'card-14': {'Short Desc': 'Relay is a JavaScript framework for building '\n",
      "                           'data-driven React applications.',\n",
      "             'Tags': ['expectation'],\n",
      "             'Title': 'relay'},\n",
      " 'card-15': {'Short Desc': 'Lexical is an extensible text editor framework '\n",
      "                           'that provides excellent reliability, accessibility '\n",
      "                           'and performance.',\n",
      "             'Tags': ['easy'],\n",
      "             'Title': 'lexical'},\n",
      " 'card-16': {'Short Desc': 'An open-source C++ library developed and used at '\n",
      "                           'Facebook.',\n",
      "             'Tags': ['immersive'],\n",
      "             'Title': 'folly'},\n",
      " 'card-17': {'Short Desc': 'A library that provides an embeddable, persistent '\n",
      "                           'key-value store for fast storage.',\n",
      "             'Tags': ['painless'],\n",
      "             'Title': 'rocksdb'},\n",
      " 'card-18': {'Short Desc': 'SQuangLe is a C++ API for accessing MySQL servers',\n",
      "             'Tags': ['storage-engine'],\n",
      "             'Title': 'squangle'},\n",
      " 'card-19': {'Short Desc': 'A declarative, efficient, and flexible JavaScript '\n",
      "                           'library for building user interfaces.',\n",
      "             'Tags': ['database'],\n",
      "             'Title': 'react'},\n",
      " 'card-2': {'Short Desc': 'A virtual machine for executing programs written in '\n",
      "                          'Hack.',\n",
      "            'Tags': ['cache'],\n",
      "            'Title': 'hhvm'},\n",
      " 'card-20': {'Short Desc': 'Adaptive Experimentation Platform',\n",
      "             'Tags': ['library'],\n",
      "             'Title': 'Ax'},\n",
      " 'card-21': {'Short Desc': 'BICs (Bridge IC) are standalone devices deployed '\n",
      "                           'within a Data Center that enable monitoring a '\n",
      "                           'multi-host system using a single BMC device.',\n",
      "             'Tags': ['ui'],\n",
      "             'Title': 'OpenBIC'},\n",
      " 'card-22': {'Short Desc': 'Share threat information with vetted partners',\n",
      "             'Tags': ['frontend'],\n",
      "             'Title': 'ThreatExchange'},\n",
      " 'card-23': {'Short Desc': 'Adds static typing to JavaScript to improve '\n",
      "                           'developer productivity and code quality.',\n",
      "             'Tags': ['declarative'],\n",
      "             'Title': 'flow'},\n",
      " 'card-24': {'Short Desc': 'Performant type-checking for python.',\n",
      "             'Tags': ['react'],\n",
      "             'Title': 'pyre-check'},\n",
      " 'card-25': {'Short Desc': 'A JavaScript engine optimized for running React '\n",
      "                           'Native.',\n",
      "             'Tags': ['javascript'],\n",
      "             'Title': 'hermes'},\n",
      " 'card-26': {'Short Desc': 'OpenBMC is an open software framework to build a '\n",
      "                           'complete Linux image for a Board Management '\n",
      "                           'Controller (BMC).',\n",
      "             'Tags': ['python'],\n",
      "             'Title': 'openbmc'},\n",
      " 'card-27': {'Short Desc': 'Zstandard - Fast real-time compression algorithm',\n",
      "             'Tags': ['security'],\n",
      "             'Title': 'zstd'},\n",
      " 'card-28': {'Short Desc': \"Facebook's branch of the Oracle MySQL v5.6 \"\n",
      "                           'database. This includes MyRocks.',\n",
      "             'Tags': ['typechecker'],\n",
      "             'Title': 'mysql-5.6'},\n",
      " 'card-29': {'Short Desc': 'Facebook AI Performance Evaluation Platform',\n",
      "             'Tags': ['static-analysis'],\n",
      "             'Title': 'FAI-PEP'},\n",
      " 'card-3': {'Short Desc': 'Facebook Open Switching System Software for '\n",
      "                          'controlling network switches.',\n",
      "            'Tags': ['concurrency'],\n",
      "            'Title': 'fboss'},\n",
      " 'card-30': {'Short Desc': 'Easy to maintain open source documentation '\n",
      "                           'websites.',\n",
      "             'Tags': ['ocaml'],\n",
      "             'Title': 'docusaurus'},\n",
      " 'card-4': {'Short Desc': 'Watches files and records, or triggers actions, '\n",
      "                          'when they change.',\n",
      "            'Tags': ['ssd'],\n",
      "            'Title': 'watchman'},\n",
      " 'card-5': {'Short Desc': \"Facebook's branch of Apache Thrift, including a new \"\n",
      "                          'C++ server.',\n",
      "            'Tags': ['cache-engine'],\n",
      "            'Title': 'fbthrift'},\n",
      " 'card-6': {'Short Desc': 'fb303 is a core set of thrift functions that '\n",
      "                          'provide a common mechanism for querying stats and '\n",
      "                          'other information from a service.',\n",
      "            'Tags': ['performance'],\n",
      "            'Title': 'fb303'},\n",
      " 'card-7': {'Short Desc': 'Distributed platform for building autonomic network '\n",
      "                          'functions.',\n",
      "            'Tags': ['hacklang'],\n",
      "            'Title': 'openr'},\n",
      " 'card-8': {'Short Desc': 'A collection of C++ HTTP libraries including an '\n",
      "                          'easy to use HTTP server.',\n",
      "            'Tags': ['php'],\n",
      "            'Title': 'proxygen'},\n",
      " 'card-9': {'Short Desc': 'Delightful JavaScript Testing.',\n",
      "            'Tags': ['hack'],\n",
      "            'Title': 'jest'}}\n"
     ]
    }
   ],
   "source": [
    "card_dict = dict()\n",
    "for i in range(30):\n",
    "    card_dict.update({f\"card-{i+1}\" : {\n",
    "        \"Title\" : repo_title[i],\n",
    "        \"Short Desc\" : repo_sdesc[i],\n",
    "        \"Tags\" : n_repo_tags[i]\n",
    "    }})\n",
    "pprint(card_dict)"
   ]
  },
  {
   "cell_type": "code",
   "execution_count": null,
   "id": "2846b0af",
   "metadata": {},
   "outputs": [],
   "source": []
  }
 ],
 "metadata": {
  "kernelspec": {
   "display_name": "Python 3 (ipykernel)",
   "language": "python",
   "name": "python3"
  },
  "language_info": {
   "codemirror_mode": {
    "name": "ipython",
    "version": 3
   },
   "file_extension": ".py",
   "mimetype": "text/x-python",
   "name": "python",
   "nbconvert_exporter": "python",
   "pygments_lexer": "ipython3",
   "version": "3.9.7"
  }
 },
 "nbformat": 4,
 "nbformat_minor": 5
}
